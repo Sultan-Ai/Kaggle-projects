{
 "cells": [
  {
   "cell_type": "markdown",
   "id": "74a58591-424e-43c8-a31a-5471728edc2a",
   "metadata": {},
   "source": [
    "# README\n",
    "\n",
    "The aim of this project is to categorize text descriptions into 4 distinct categories. The dataset required for this project can be accessed at https://www.kaggle.com/datasets/saurabhshahane/ecommerce-text-classification?select=ecommerceDataset.csv. Multiple text classification algorithms are employed in this project to demonstrate their varying levels of accuracy."
   ]
  },
  {
   "cell_type": "markdown",
   "id": "1a1c1344-abf1-480e-9ac6-a540fd00ecea",
   "metadata": {},
   "source": [
    "# Analyze data"
   ]
  },
  {
   "cell_type": "code",
   "execution_count": 27,
   "id": "cbee9376-eaae-4c7a-976e-1d98cf767e16",
   "metadata": {},
   "outputs": [],
   "source": [
    "# import modules\n",
    "import pandas as pd\n",
    "\n",
    "# sklearn\n",
    "from sklearn.feature_extraction.text import CountVectorizer\n",
    "from sklearn.model_selection import train_test_split \n",
    "from sklearn.metrics import classification_report\n",
    "from sklearn.metrics import accuracy_score\n",
    "from sklearn.preprocessing import LabelEncoder\n",
    "\n",
    "# spacy\n",
    "import spacy\n",
    "nlp = spacy.load(\"en_core_web_sm\")"
   ]
  },
  {
   "cell_type": "code",
   "execution_count": 2,
   "id": "e5940007-6007-4d5b-8db0-31f9fb6fcc9f",
   "metadata": {},
   "outputs": [],
   "source": [
    "# import csv file\n",
    "df = pd.read_csv('ecommerceDataset.csv', header =None)\n",
    "df.rename(columns = {0 : 'Label', 1: 'Text'}, inplace=True)"
   ]
  },
  {
   "cell_type": "code",
   "execution_count": 3,
   "id": "7dbe5af7-a611-4c57-b2f7-59e2883690ac",
   "metadata": {},
   "outputs": [
    {
     "data": {
      "text/plain": [
       "array(['Household', 'Books', 'Clothing & Accessories', 'Electronics'],\n",
       "      dtype=object)"
      ]
     },
     "execution_count": 3,
     "metadata": {},
     "output_type": "execute_result"
    }
   ],
   "source": [
    "# determine number of unique labels\n",
    "df['Label'].unique()"
   ]
  },
  {
   "cell_type": "code",
   "execution_count": 4,
   "id": "f7f66f43-5f98-4ae0-9457-ac18242ac548",
   "metadata": {},
   "outputs": [
    {
     "name": "stdout",
     "output_type": "stream",
     "text": [
      "Label: Household\n",
      "Text: Paper Plane Design Framed Wall Hanging Motivational Office Decor Art Prints (8.7 X 8.7 inch) - Set of 4 Painting made up in synthetic frame with uv textured print which gives multi effects and attracts towards it. This is an special series of paintings which makes your wall very beautiful and gives a royal touch. This painting is ready to hang, you would be proud to possess this unique painting that is a niche apart. We use only the most modern and efficient printing technology on our prints, with only the and inks and precision epson, roland and hp printers. This innovative hd printing technique results in durable and spectacular looking prints of the highest that last a lifetime. We print solely with top-notch 100% inks, to achieve brilliant and true colours. Due to their high level of uv resistance, our prints retain their beautiful colours for many years. Add colour and style to your living space with this digitally printed painting. Some are for pleasure and some for eternal bliss.so bring home this elegant print that is lushed with rich colors that makes it nothing but sheer elegance to be to your friends and family.it would be treasured forever by whoever your lucky recipient is. Liven up your place with these intriguing paintings that are high definition hd graphic digital prints for home, office or any room.\n"
     ]
    }
   ],
   "source": [
    "# visualize the first example\n",
    "print(f\"Label: {df['Label'][0]}\")\n",
    "print(f\"Text: {df['Text'][0]}\")"
   ]
  },
  {
   "cell_type": "code",
   "execution_count": 5,
   "id": "d84e6008-6abc-4bbb-9b19-6984ac26b86c",
   "metadata": {},
   "outputs": [
    {
     "name": "stdout",
     "output_type": "stream",
     "text": [
      "Number of Null values in the text is 1\n",
      "Number of Null values in the text is 0\n"
     ]
    }
   ],
   "source": [
    "# detect Null values\n",
    "print(f\"Number of Null values in the text is {df['Text'].isnull().sum()}\")\n",
    "\n",
    "# drop Null values\n",
    "df.dropna(inplace=True)\n",
    "\n",
    "# detect Null values\n",
    "print(f\"Number of Null values in the text is {df['Text'].isnull().sum()}\")"
   ]
  },
  {
   "cell_type": "markdown",
   "id": "fa128384-63ee-4de1-9564-d2fbc7ce9268",
   "metadata": {
    "tags": []
   },
   "source": [
    "# Bag of words with SVM"
   ]
  },
  {
   "cell_type": "code",
   "execution_count": 6,
   "id": "71d8b90c-34ba-409c-8559-5fc5f39e9369",
   "metadata": {},
   "outputs": [
    {
     "name": "stdout",
     "output_type": "stream",
     "text": [
      "(50424,)\n",
      "3\n"
     ]
    }
   ],
   "source": [
    "# label encode y. y contains 4 categories.\n",
    "LE = LabelEncoder()\n",
    "y = LE.fit_transform(df['Label'])\n",
    "print(y.shape)\n",
    "print(y[0])"
   ]
  },
  {
   "cell_type": "code",
   "execution_count": null,
   "id": "84d3cfe2-8150-4ee6-afec-d666f6ddc08d",
   "metadata": {},
   "outputs": [],
   "source": [
    "from sklearn.preprocessing import OneHotEncoder\n",
    "\n",
    "enc.fit(y)"
   ]
  },
  {
   "cell_type": "code",
   "execution_count": 7,
   "id": "26a59fc9-70de-4b4b-a889-7f80357c9f21",
   "metadata": {},
   "outputs": [
    {
     "name": "stdout",
     "output_type": "stream",
     "text": [
      "(50424, 78571)\n",
      "78571\n",
      "CPU times: total: 516 ms\n",
      "Wall time: 2.71 s\n"
     ]
    }
   ],
   "source": [
    "%%time\n",
    "# Create a CountVectorizer object\n",
    "vectorizer = CountVectorizer(lowercase=True, stop_words='english', max_df=0.5)\n",
    "# vectorizer = CountVectorizer()\n",
    "\n",
    "X = vectorizer.fit_transform(df['Text'])\n",
    "\n",
    "# dimensions of X matrix - bag of words\n",
    "print(X.shape)\n",
    "\n",
    "# dimensions of feature names\n",
    "names = vectorizer.get_feature_names_out()\n",
    "print(len(names))"
   ]
  },
  {
   "cell_type": "code",
   "execution_count": 8,
   "id": "71062ae6-e653-41ca-a59a-e5fe8c21e959",
   "metadata": {},
   "outputs": [
    {
     "name": "stdout",
     "output_type": "stream",
     "text": [
      "(40339, 78571)\n",
      "(40339,)\n",
      "(10085, 78571)\n",
      "(10085,)\n"
     ]
    }
   ],
   "source": [
    "# divide into test and train sets\n",
    "X_train, X_test, y_train, y_test = train_test_split(X, y, test_size=0.2, random_state=1)\n",
    "print(X_train.shape)\n",
    "print(y_train.shape)\n",
    "print(X_test.shape)\n",
    "print(y_test.shape)"
   ]
  },
  {
   "cell_type": "code",
   "execution_count": 9,
   "id": "63e7ae15-24ac-4434-971a-7de20c7dcf3b",
   "metadata": {},
   "outputs": [
    {
     "name": "stdout",
     "output_type": "stream",
     "text": [
      "CPU times: total: 2min 21s\n",
      "Wall time: 6min 5s\n"
     ]
    },
    {
     "data": {
      "text/html": [
       "<style>#sk-container-id-1 {color: black;background-color: white;}#sk-container-id-1 pre{padding: 0;}#sk-container-id-1 div.sk-toggleable {background-color: white;}#sk-container-id-1 label.sk-toggleable__label {cursor: pointer;display: block;width: 100%;margin-bottom: 0;padding: 0.3em;box-sizing: border-box;text-align: center;}#sk-container-id-1 label.sk-toggleable__label-arrow:before {content: \"▸\";float: left;margin-right: 0.25em;color: #696969;}#sk-container-id-1 label.sk-toggleable__label-arrow:hover:before {color: black;}#sk-container-id-1 div.sk-estimator:hover label.sk-toggleable__label-arrow:before {color: black;}#sk-container-id-1 div.sk-toggleable__content {max-height: 0;max-width: 0;overflow: hidden;text-align: left;background-color: #f0f8ff;}#sk-container-id-1 div.sk-toggleable__content pre {margin: 0.2em;color: black;border-radius: 0.25em;background-color: #f0f8ff;}#sk-container-id-1 input.sk-toggleable__control:checked~div.sk-toggleable__content {max-height: 200px;max-width: 100%;overflow: auto;}#sk-container-id-1 input.sk-toggleable__control:checked~label.sk-toggleable__label-arrow:before {content: \"▾\";}#sk-container-id-1 div.sk-estimator input.sk-toggleable__control:checked~label.sk-toggleable__label {background-color: #d4ebff;}#sk-container-id-1 div.sk-label input.sk-toggleable__control:checked~label.sk-toggleable__label {background-color: #d4ebff;}#sk-container-id-1 input.sk-hidden--visually {border: 0;clip: rect(1px 1px 1px 1px);clip: rect(1px, 1px, 1px, 1px);height: 1px;margin: -1px;overflow: hidden;padding: 0;position: absolute;width: 1px;}#sk-container-id-1 div.sk-estimator {font-family: monospace;background-color: #f0f8ff;border: 1px dotted black;border-radius: 0.25em;box-sizing: border-box;margin-bottom: 0.5em;}#sk-container-id-1 div.sk-estimator:hover {background-color: #d4ebff;}#sk-container-id-1 div.sk-parallel-item::after {content: \"\";width: 100%;border-bottom: 1px solid gray;flex-grow: 1;}#sk-container-id-1 div.sk-label:hover label.sk-toggleable__label {background-color: #d4ebff;}#sk-container-id-1 div.sk-serial::before {content: \"\";position: absolute;border-left: 1px solid gray;box-sizing: border-box;top: 0;bottom: 0;left: 50%;z-index: 0;}#sk-container-id-1 div.sk-serial {display: flex;flex-direction: column;align-items: center;background-color: white;padding-right: 0.2em;padding-left: 0.2em;position: relative;}#sk-container-id-1 div.sk-item {position: relative;z-index: 1;}#sk-container-id-1 div.sk-parallel {display: flex;align-items: stretch;justify-content: center;background-color: white;position: relative;}#sk-container-id-1 div.sk-item::before, #sk-container-id-1 div.sk-parallel-item::before {content: \"\";position: absolute;border-left: 1px solid gray;box-sizing: border-box;top: 0;bottom: 0;left: 50%;z-index: -1;}#sk-container-id-1 div.sk-parallel-item {display: flex;flex-direction: column;z-index: 1;position: relative;background-color: white;}#sk-container-id-1 div.sk-parallel-item:first-child::after {align-self: flex-end;width: 50%;}#sk-container-id-1 div.sk-parallel-item:last-child::after {align-self: flex-start;width: 50%;}#sk-container-id-1 div.sk-parallel-item:only-child::after {width: 0;}#sk-container-id-1 div.sk-dashed-wrapped {border: 1px dashed gray;margin: 0 0.4em 0.5em 0.4em;box-sizing: border-box;padding-bottom: 0.4em;background-color: white;}#sk-container-id-1 div.sk-label label {font-family: monospace;font-weight: bold;display: inline-block;line-height: 1.2em;}#sk-container-id-1 div.sk-label-container {text-align: center;}#sk-container-id-1 div.sk-container {/* jupyter's `normalize.less` sets `[hidden] { display: none; }` but bootstrap.min.css set `[hidden] { display: none !important; }` so we also need the `!important` here to be able to override the default hidden behavior on the sphinx rendered scikit-learn.org. See: https://github.com/scikit-learn/scikit-learn/issues/21755 */display: inline-block !important;position: relative;}#sk-container-id-1 div.sk-text-repr-fallback {display: none;}</style><div id=\"sk-container-id-1\" class=\"sk-top-container\"><div class=\"sk-text-repr-fallback\"><pre>SVC()</pre><b>In a Jupyter environment, please rerun this cell to show the HTML representation or trust the notebook. <br />On GitHub, the HTML representation is unable to render, please try loading this page with nbviewer.org.</b></div><div class=\"sk-container\" hidden><div class=\"sk-item\"><div class=\"sk-estimator sk-toggleable\"><input class=\"sk-toggleable__control sk-hidden--visually\" id=\"sk-estimator-id-1\" type=\"checkbox\" checked><label for=\"sk-estimator-id-1\" class=\"sk-toggleable__label sk-toggleable__label-arrow\">SVC</label><div class=\"sk-toggleable__content\"><pre>SVC()</pre></div></div></div></div></div>"
      ],
      "text/plain": [
       "SVC()"
      ]
     },
     "execution_count": 9,
     "metadata": {},
     "output_type": "execute_result"
    }
   ],
   "source": [
    "%%time\n",
    "# apply SVM to text classification\n",
    "from sklearn import svm\n",
    "clf = svm.SVC()\n",
    "clf.fit(X_train, y_train)"
   ]
  },
  {
   "cell_type": "code",
   "execution_count": 10,
   "id": "ff7990ca-f52b-49a8-aa0e-99bd75b801b1",
   "metadata": {},
   "outputs": [],
   "source": [
    "y_pred = clf.predict(X_test)"
   ]
  },
  {
   "cell_type": "code",
   "execution_count": 11,
   "id": "c12c05b7-6850-4a1b-a4d1-675b3361a2d9",
   "metadata": {},
   "outputs": [
    {
     "name": "stdout",
     "output_type": "stream",
     "text": [
      "              precision    recall  f1-score   support\n",
      "\n",
      "           0       0.92      0.96      0.94      2327\n",
      "           1       0.97      0.97      0.97      1702\n",
      "           2       0.98      0.93      0.95      2119\n",
      "           3       0.96      0.96      0.96      3937\n",
      "\n",
      "    accuracy                           0.96     10085\n",
      "   macro avg       0.96      0.96      0.96     10085\n",
      "weighted avg       0.96      0.96      0.96     10085\n",
      "\n",
      "Accuracy: 0.9565691621219633\n"
     ]
    }
   ],
   "source": [
    "# classification report\n",
    "print(classification_report(y_test, y_pred))\n",
    "print(\"Accuracy:\", accuracy_score(y_test, y_pred))"
   ]
  },
  {
   "cell_type": "markdown",
   "id": "f16a20e7-d42e-4a45-b0c3-3ea3caae7fb0",
   "metadata": {},
   "source": [
    "# Bag of words + Lemmatization with SVM "
   ]
  },
  {
   "cell_type": "code",
   "execution_count": 38,
   "id": "db2ae70b-ce62-4581-8f92-1a5019f30533",
   "metadata": {},
   "outputs": [],
   "source": [
    "# create function to apply lemmatization and remove stop words\n",
    "def lemmatize_stop_punct(text):\n",
    "    \n",
    "    string = \"\"\n",
    "    for token in nlp(text):\n",
    "        if not token.is_stop and not token.is_punct:\n",
    "            string = string + token.lemma_ + \" \"\n",
    "\n",
    "    return string.lower()"
   ]
  },
  {
   "cell_type": "code",
   "execution_count": 41,
   "id": "850c04f1-f367-44e6-a603-8256d445863b",
   "metadata": {},
   "outputs": [
    {
     "data": {
      "text/plain": [
       "0    Paper Plane Design Framed Wall Hanging Motivat...\n",
       "1    SAF 'Floral' Framed Painting (Wood, 30 inch x ...\n",
       "2    SAF 'UV Textured Modern Art Print Framed' Pain...\n",
       "3    SAF Flower Print Framed Painting (Synthetic, 1...\n",
       "4    Incredible Gifts India Wooden Happy Birthday U...\n",
       "5    Pitaara Box Romantic Venice Canvas Painting 6m...\n",
       "6    Paper Plane Design Starry Night Vangoh Wall Ar...\n",
       "7    Pitaara Box Romantic Venice Canvas Painting 6m...\n",
       "8    SAF 'Ganesh Modern Art Print' Painting (Synthe...\n",
       "9    Paintings Villa UV Textured Modern Art Print F...\n",
       "Name: Text, dtype: object"
      ]
     },
     "execution_count": 41,
     "metadata": {},
     "output_type": "execute_result"
    }
   ],
   "source": [
    "df['Text'][:10]"
   ]
  },
  {
   "cell_type": "code",
   "execution_count": 46,
   "id": "d4cb8e0f-f7e7-460e-90c2-11c5fef348c3",
   "metadata": {},
   "outputs": [
    {
     "name": "stdout",
     "output_type": "stream",
     "text": [
      "CPU times: total: 406 ms\n",
      "Wall time: 1.28 s\n"
     ]
    },
    {
     "data": {
      "text/plain": [
       "0     paper plane design framed wall hanging motivat...\n",
       "1     saf floral framed painting wood 30 inch x 10 i...\n",
       "2     saf uv texture modern art print framed paintin...\n",
       "3     saf flower print framed painting synthetic 13....\n",
       "4     incredible gifts india wooden happy birthday u...\n",
       "                            ...                        \n",
       "95    embroiderymaterial aari embroidery needles bea...\n",
       "96    imported universal quilting embroidery presser...\n",
       "97    wooden embroidery hoop frame crafters designer...\n",
       "98    sewn golden colour seed bead embroidery superi...\n",
       "99    icraft rn281 cotton embroidery thread set mult...\n",
       "Name: Text_lemma, Length: 100, dtype: object"
      ]
     },
     "execution_count": 46,
     "metadata": {},
     "output_type": "execute_result"
    }
   ],
   "source": [
    "%%time\n",
    "# apply function\n",
    "df['Text_lemma'] = df['Text'].apply(lemmatize_stop_punct)\n",
    "df['Text_lemma']"
   ]
  },
  {
   "cell_type": "code",
   "execution_count": 48,
   "id": "dd688f7c-b59c-4412-8bd1-b5195ef8f62a",
   "metadata": {},
   "outputs": [
    {
     "data": {
      "text/plain": [
       "720.0"
      ]
     },
     "execution_count": 48,
     "metadata": {},
     "output_type": "execute_result"
    }
   ],
   "source": [
    "60000/100 * 1.2"
   ]
  },
  {
   "cell_type": "code",
   "execution_count": null,
   "id": "ff8c198f-5603-4add-a042-d11829e300a0",
   "metadata": {},
   "outputs": [],
   "source": [
    "df['Text_lemma'].to_csv('saved_data.csv')"
   ]
  }
 ],
 "metadata": {
  "kernelspec": {
   "display_name": "Python 3 (ipykernel)",
   "language": "python",
   "name": "python3"
  },
  "language_info": {
   "codemirror_mode": {
    "name": "ipython",
    "version": 3
   },
   "file_extension": ".py",
   "mimetype": "text/x-python",
   "name": "python",
   "nbconvert_exporter": "python",
   "pygments_lexer": "ipython3",
   "version": "3.9.13"
  }
 },
 "nbformat": 4,
 "nbformat_minor": 5
}
