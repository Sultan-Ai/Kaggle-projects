{
 "cells": [
  {
   "cell_type": "markdown",
   "id": "bc70a4a0-0fab-4e41-9779-9237fb6af054",
   "metadata": {},
   "source": [
    "# Readme"
   ]
  },
  {
   "cell_type": "markdown",
   "id": "a0e08b2f-8e4c-4678-ba48-faf116adcfd4",
   "metadata": {},
   "source": [
    "CS GO remains a very popular game for over 2 decades. Global Offensive has one of the most popular esport scenes in the world. The Global Offensive professional scene consists of leagues and tournaments hosted by third-party organizations, and Valve-sponsored tournaments known as Major Championships. Majors are considered the most prestigious tournaments in Counter-Strike circuit and have among the largest prize pools; originally announced at US 250,000, the prize pools for Majors have risen to USD 1,000,000 since MLG Columbus 2016. Like in physical sports, football, basketball etc., the betting on e-sport competitive events is becoming popular. This project is aimed for predicting outcomes of CS GO matches based on individual players' performance.\n",
    "\n",
    "Files:\n",
    "- CS GO prediction.ipynb - main notebook where the final output files were generated from\n",
    "- CS GO playground for tests.ipynb - additional notebook to understand data and to play with ML models\n",
    "- train.csv and players_feats.csv - data for training and crossvalidation\n",
    "- test.csv - data for the test set\n",
    "\n",
    "Output files:\n",
    "These files includes the new column called 'who_win' for test.csv\n",
    "- test_data_1\n",
    "- test_data_2\n",
    "- test_data_3"
   ]
  },
  {
   "cell_type": "markdown",
   "id": "d6afdf42-3780-407b-864f-34f6b2b06e27",
   "metadata": {},
   "source": [
    "# Exploratory analysis"
   ]
  },
  {
   "cell_type": "markdown",
   "id": "aa1cdd75-f915-4b9c-b4c5-5cce8f3edbf7",
   "metadata": {},
   "source": [
    "## Import data"
   ]
  },
  {
   "cell_type": "code",
   "execution_count": 1,
   "id": "e19bd87b-1ac3-4914-9339-0f22c724ae56",
   "metadata": {},
   "outputs": [],
   "source": [
    "import pandas as pd\n",
    "import numpy as np"
   ]
  },
  {
   "cell_type": "code",
   "execution_count": 2,
   "id": "ffab9e7b-819c-4561-be21-24065e7af651",
   "metadata": {},
   "outputs": [],
   "source": [
    "# import data and sort by map_id\n",
    "players_feats = pd.read_csv('players_feats.csv')\n",
    "players_feats.sort_values(by='map_id', inplace=True)\n",
    "train_data = pd.read_csv('train.csv')\n",
    "train_data.sort_values(by='map_id', inplace=True)\n",
    "test_data = pd.read_csv('test.csv')"
   ]
  },
  {
   "cell_type": "code",
   "execution_count": 3,
   "id": "9ea9585b-c422-4e64-9db9-1dc78599a80a",
   "metadata": {},
   "outputs": [],
   "source": [
    "test_data.drop(columns=['index'], inplace=True)"
   ]
  },
  {
   "cell_type": "markdown",
   "id": "026af6d7-f90f-4c6e-a9dc-e96e13c6eb1f",
   "metadata": {},
   "source": [
    "## Process players_feats"
   ]
  },
  {
   "cell_type": "code",
   "execution_count": 4,
   "id": "2530ce0a-d6cb-45f8-b104-92fa5e3601f3",
   "metadata": {},
   "outputs": [],
   "source": [
    "players_feats.fillna(0, inplace=True)"
   ]
  },
  {
   "cell_type": "code",
   "execution_count": 5,
   "id": "9b70b78b-f17b-427d-b3c9-13a6d2792772",
   "metadata": {},
   "outputs": [],
   "source": [
    "players_feats.drop(columns=['p1_id', 'p2_id', 'p3_id', 'p4_id', 'p5_id'], inplace=True)"
   ]
  },
  {
   "cell_type": "code",
   "execution_count": 6,
   "id": "911a726a-ced0-41ae-9840-fc0577150d3b",
   "metadata": {},
   "outputs": [
    {
     "data": {
      "text/plain": [
       "(1486, 123)"
      ]
     },
     "execution_count": 6,
     "metadata": {},
     "output_type": "execute_result"
    }
   ],
   "source": [
    "players_feats.shape"
   ]
  },
  {
   "cell_type": "markdown",
   "id": "0c4f9849-f6e5-4ed1-a49b-d58d86ebca4b",
   "metadata": {},
   "source": [
    "# Data analysis and processing"
   ]
  },
  {
   "cell_type": "markdown",
   "id": "647561e1-b3e6-4c13-8827-49081f2a8087",
   "metadata": {},
   "source": [
    "## Prepare for X and y"
   ]
  },
  {
   "cell_type": "markdown",
   "id": "8535ac7b-cbfa-4c39-a083-48e81df756ef",
   "metadata": {},
   "source": [
    "### Merge data"
   ]
  },
  {
   "cell_type": "markdown",
   "id": "3d42c65b-092d-4225-95bc-5fb484c86e83",
   "metadata": {},
   "source": [
    "### For train data"
   ]
  },
  {
   "cell_type": "code",
   "execution_count": 7,
   "id": "e6631a00-ca47-4f22-92c0-b3193b4ff0a6",
   "metadata": {},
   "outputs": [
    {
     "data": {
      "text/plain": [
       "(713, 247)"
      ]
     },
     "execution_count": 7,
     "metadata": {},
     "output_type": "execute_result"
    }
   ],
   "source": [
    "# step 1 - merge with team 1\n",
    "merged_df = pd.merge(train_data, players_feats, left_on = ['map_id', 'team1_id', 'map_name'], right_on =['map_id', 'team_id', 'map_name'])\n",
    "\n",
    "# step 2 - merge with team 2\n",
    "train_merged_df = pd.merge(merged_df, players_feats, left_on = ['map_id', 'team2_id', 'map_name'], right_on = ['map_id', 'team_id', 'map_name'], suffixes = ('_team_1', '_team_2'))\n",
    "train_merged_df.shape"
   ]
  },
  {
   "cell_type": "markdown",
   "id": "fd0f1ea7-8875-403c-8b0f-f52e9be1a717",
   "metadata": {},
   "source": [
    "### For test (exam) data"
   ]
  },
  {
   "cell_type": "code",
   "execution_count": 8,
   "id": "3592a048-df97-41c3-b06c-c752cf6dc23d",
   "metadata": {},
   "outputs": [
    {
     "data": {
      "text/plain": [
       "(30, 246)"
      ]
     },
     "execution_count": 8,
     "metadata": {},
     "output_type": "execute_result"
    }
   ],
   "source": [
    "# step 1 - merge with team 1\n",
    "merged_df = pd.merge(test_data, players_feats, left_on = ['map_id', 'team1_id', 'map_name'], right_on =['map_id', 'team_id', 'map_name'])\n",
    "\n",
    "# step 2 - merge with team 2\n",
    "test_merged_df = pd.merge(merged_df, players_feats, left_on = ['map_id', 'team2_id', 'map_name'], right_on = ['map_id', 'team_id', 'map_name'], suffixes = ('_team_1', '_team_2'))\n",
    "test_merged_df.shape"
   ]
  },
  {
   "cell_type": "markdown",
   "id": "c5a4039e-142e-4331-82c7-6283f356f5f7",
   "metadata": {},
   "source": [
    "### X"
   ]
  },
  {
   "cell_type": "code",
   "execution_count": 9,
   "id": "864edac7-6a64-4e05-86e2-680c63e134c4",
   "metadata": {},
   "outputs": [
    {
     "data": {
      "text/plain": [
       "(713, 242)"
      ]
     },
     "execution_count": 9,
     "metadata": {},
     "output_type": "execute_result"
    }
   ],
   "source": [
    "# for train data \n",
    "X = train_merged_df.drop(columns=['map_id','map_name','who_win', 'team_id_team_1', 'team_id_team_2']);\n",
    "# X = pd.get_dummies(X, columns = ['team1_id', 'team2_id'])\n",
    "X.shape"
   ]
  },
  {
   "cell_type": "code",
   "execution_count": 10,
   "id": "9c1862b6-c5d9-4623-be96-116c542f4676",
   "metadata": {},
   "outputs": [],
   "source": [
    "# for test (exam) data\n",
    "X_test = test_merged_df.drop(columns=['map_id','map_name', 'team_id_team_1', 'team_id_team_2']);\n"
   ]
  },
  {
   "cell_type": "code",
   "execution_count": 11,
   "id": "481f8916-8664-451e-ac5c-dd24bf295c71",
   "metadata": {},
   "outputs": [],
   "source": [
    "X_concat = pd.concat([X, X_test])"
   ]
  },
  {
   "cell_type": "code",
   "execution_count": 12,
   "id": "4c0da81f-7a70-4fbf-9f03-326915834652",
   "metadata": {},
   "outputs": [
    {
     "data": {
      "text/plain": [
       "(743, 242)"
      ]
     },
     "execution_count": 12,
     "metadata": {},
     "output_type": "execute_result"
    }
   ],
   "source": [
    "X_concat.shape"
   ]
  },
  {
   "cell_type": "code",
   "execution_count": 13,
   "id": "9c61837c-263b-42ef-b5a7-7209ff26db15",
   "metadata": {},
   "outputs": [
    {
     "data": {
      "text/plain": [
       "(743, 351)"
      ]
     },
     "execution_count": 13,
     "metadata": {},
     "output_type": "execute_result"
    }
   ],
   "source": [
    "X_concat = pd.get_dummies(X_concat, columns = ['team1_id', 'team2_id'])\n",
    "X_concat.shape"
   ]
  },
  {
   "cell_type": "code",
   "execution_count": 14,
   "id": "ccc81a23-c198-41b5-b0a6-46122d60b39f",
   "metadata": {},
   "outputs": [
    {
     "data": {
      "text/plain": [
       "(713, 351)"
      ]
     },
     "execution_count": 14,
     "metadata": {},
     "output_type": "execute_result"
    }
   ],
   "source": [
    "X = X_concat.iloc[0:713,:]\n",
    "X.shape"
   ]
  },
  {
   "cell_type": "code",
   "execution_count": 15,
   "id": "7fd33b14-63dc-4a11-983a-63c2c8bca9f8",
   "metadata": {},
   "outputs": [
    {
     "data": {
      "text/plain": [
       "(30, 351)"
      ]
     },
     "execution_count": 15,
     "metadata": {},
     "output_type": "execute_result"
    }
   ],
   "source": [
    "X_test = X_concat.iloc[713:743,:]\n",
    "X_test.shape"
   ]
  },
  {
   "cell_type": "code",
   "execution_count": 16,
   "id": "5b093e69-45c5-4f79-b680-e4bc76d3aec3",
   "metadata": {},
   "outputs": [],
   "source": [
    "# apply MinMaxScaler to make gradient descent effective\n",
    "from sklearn.preprocessing import MinMaxScaler\n",
    "\n",
    "scaler = MinMaxScaler()\n",
    "X = pd.DataFrame(scaler.fit_transform(X.values), columns=X.columns, index=X.index)\n",
    "X_test = pd.DataFrame(scaler.fit_transform(X_test.values), columns=X_test.columns, index=X_test.index)"
   ]
  },
  {
   "cell_type": "code",
   "execution_count": 17,
   "id": "815a8d8a-1142-4273-9255-c68811ca40e2",
   "metadata": {},
   "outputs": [
    {
     "data": {
      "text/plain": [
       "(713, 351)"
      ]
     },
     "execution_count": 17,
     "metadata": {},
     "output_type": "execute_result"
    }
   ],
   "source": [
    "X.shape"
   ]
  },
  {
   "cell_type": "code",
   "execution_count": 18,
   "id": "fd5a270e-1721-4d68-8954-6c7be20cee1d",
   "metadata": {},
   "outputs": [
    {
     "data": {
      "text/plain": [
       "(30, 351)"
      ]
     },
     "execution_count": 18,
     "metadata": {},
     "output_type": "execute_result"
    }
   ],
   "source": [
    "X_test.shape"
   ]
  },
  {
   "cell_type": "markdown",
   "id": "ca112e05-f44c-4432-9d3c-d8d064fe7b3b",
   "metadata": {},
   "source": [
    "### y"
   ]
  },
  {
   "cell_type": "code",
   "execution_count": 19,
   "id": "8b57fb78-00a7-46aa-9690-aa8c7779b609",
   "metadata": {},
   "outputs": [],
   "source": [
    "y = train_merged_df['who_win']"
   ]
  },
  {
   "cell_type": "markdown",
   "id": "0c4f7a11-2ae9-458d-b17c-0cea5077fd8a",
   "metadata": {},
   "source": [
    "# Creation of ANN"
   ]
  },
  {
   "cell_type": "markdown",
   "id": "2a6ae25f-ef76-4128-b80f-e90fd437e361",
   "metadata": {},
   "source": [
    "The idea is to create ensemble of ANNs. Because those results are more stable. Accuracy do not change as much over multiple runs. There are better ways to put ensemble on ANNs than implemented here, however, this code does the job."
   ]
  },
  {
   "cell_type": "markdown",
   "id": "f334db11-5b36-4833-9377-661e8502b7f6",
   "metadata": {},
   "source": [
    "## ANN"
   ]
  },
  {
   "cell_type": "code",
   "execution_count": 20,
   "id": "c453be8f-8d0d-4f5a-b231-b55d35d4cbc8",
   "metadata": {},
   "outputs": [],
   "source": [
    "import copy\n",
    "import tensorflow as tf\n",
    "from tensorflow import keras\n",
    "from sklearn.model_selection import train_test_split\n",
    "from keras import regularizers"
   ]
  },
  {
   "cell_type": "code",
   "execution_count": 21,
   "id": "ade157be-bf7c-4cf7-89ac-c7ae2877a733",
   "metadata": {},
   "outputs": [],
   "source": [
    "%%capture\n",
    "score_acc = []\n",
    "\n",
    "for i in range(0,30):\n",
    "    \n",
    "    # create model and execute it\n",
    "    X_train, X_cv, y_train, y_cv = train_test_split(X, y, test_size=30/713)\n",
    "\n",
    "    no_inputs_X = X_train.shape[1]\n",
    "\n",
    "    model_ANN = keras.Sequential([\n",
    "        keras.layers.Dense(3, activation='tanh', input_shape=(no_inputs_X,), kernel_regularizer=regularizers.l2(0.001)),\n",
    "        keras.layers.Dense(2, activation='tanh', kernel_regularizer=regularizers.l2(0.001)),\n",
    "        keras.layers.Dense(1, activation='sigmoid', kernel_regularizer=regularizers.l2(0.001))\n",
    "    ])\n",
    "\n",
    "    model_ANN.compile(optimizer = 'adam',\n",
    "                  loss = 'binary_crossentropy',\n",
    "                  metrics = ['accuracy'])\n",
    "\n",
    "    \n",
    "    model_ANN.fit(X_train, y_train, epochs=500);\n",
    "\n",
    "    test_loss, test_accuracy = model_ANN.evaluate(X_train, y_train)\n",
    "\n",
    "    test_loss, test_accuracy = model_ANN.evaluate(X_cv, y_cv)\n",
    "    \n",
    "    score_acc.append(test_accuracy)\n",
    "    \n",
    "    \n",
    "    \n",
    "    # predict results for the test (exam) set       \n",
    "    b1 = model_ANN.predict(X)\n",
    "    b2 = model_ANN.predict(X_test)\n",
    "\n",
    "    if i == 0:\n",
    "        a1 = copy.deepcopy(b1)\n",
    "        a2 = copy.deepcopy(b2)\n",
    "\n",
    "    a1 = np.concatenate((a1,b1), axis=1)\n",
    "    a2 = np.concatenate((a2,b2), axis=1)\n"
   ]
  },
  {
   "cell_type": "markdown",
   "id": "d6ff9242-0dc2-45db-a684-3e06cb5ef211",
   "metadata": {},
   "source": [
    "### Output for scores"
   ]
  },
  {
   "cell_type": "code",
   "execution_count": 22,
   "id": "b071c2b6-9e4a-4d3f-af19-52c08ce1e469",
   "metadata": {},
   "outputs": [
    {
     "data": {
      "text/plain": [
       "0.5966666708389918"
      ]
     },
     "execution_count": 22,
     "metadata": {},
     "output_type": "execute_result"
    }
   ],
   "source": [
    "np.mean(score_acc)"
   ]
  },
  {
   "cell_type": "code",
   "execution_count": 23,
   "id": "ff03009c-f54a-4d4a-af43-c2e9f2f5dc89",
   "metadata": {},
   "outputs": [
    {
     "data": {
      "text/plain": [
       "[0.6000000238418579,\n",
       " 0.46666666865348816,\n",
       " 0.6333333253860474,\n",
       " 0.5333333611488342,\n",
       " 0.7666666507720947,\n",
       " 0.5,\n",
       " 0.4333333373069763,\n",
       " 0.6000000238418579,\n",
       " 0.5666666626930237,\n",
       " 0.6333333253860474,\n",
       " 0.699999988079071,\n",
       " 0.6000000238418579,\n",
       " 0.7333333492279053,\n",
       " 0.6000000238418579,\n",
       " 0.6333333253860474,\n",
       " 0.6333333253860474,\n",
       " 0.6666666865348816,\n",
       " 0.6333333253860474,\n",
       " 0.5666666626930237,\n",
       " 0.699999988079071,\n",
       " 0.5,\n",
       " 0.7333333492279053,\n",
       " 0.6333333253860474,\n",
       " 0.5666666626930237,\n",
       " 0.5333333611488342,\n",
       " 0.4333333373069763,\n",
       " 0.6333333253860474,\n",
       " 0.5666666626930237,\n",
       " 0.5333333611488342,\n",
       " 0.5666666626930237]"
      ]
     },
     "execution_count": 23,
     "metadata": {},
     "output_type": "execute_result"
    }
   ],
   "source": [
    "score_acc"
   ]
  },
  {
   "cell_type": "code",
   "execution_count": 24,
   "id": "e9471882-fc78-459f-86fd-4cfbfd11c8a3",
   "metadata": {},
   "outputs": [
    {
     "data": {
      "text/plain": [
       "(0.6267, 0.5989)"
      ]
     },
     "execution_count": 24,
     "metadata": {},
     "output_type": "execute_result"
    }
   ],
   "source": [
    "# manually saved mean scores over multiple runs of this notebook\n",
    "[0.6267, 0.5989, 0.5967]"
   ]
  },
  {
   "cell_type": "markdown",
   "id": "da577a83-91fe-412d-b91a-bcfcb5dca09c",
   "metadata": {},
   "source": [
    "### Output for predictions for test (exam) set"
   ]
  },
  {
   "cell_type": "code",
   "execution_count": 25,
   "id": "c88db46c-5bd0-49e2-8612-69e825dda198",
   "metadata": {},
   "outputs": [
    {
     "data": {
      "text/plain": [
       "(713, 30)"
      ]
     },
     "execution_count": 25,
     "metadata": {},
     "output_type": "execute_result"
    }
   ],
   "source": [
    "# predictions for all data from train.csv\n",
    "y_pred = np.delete(a1,0,1)\n",
    "y_pred.shape"
   ]
  },
  {
   "cell_type": "code",
   "execution_count": 26,
   "id": "c2400428-27b7-478b-a47d-6e08ce0730ef",
   "metadata": {},
   "outputs": [
    {
     "data": {
      "text/plain": [
       "(30, 30)"
      ]
     },
     "execution_count": 26,
     "metadata": {},
     "output_type": "execute_result"
    }
   ],
   "source": [
    "# predictions for test exam data\n",
    "y_test_pred = np.delete(a2,0,1)\n",
    "y_test_pred.shape"
   ]
  },
  {
   "cell_type": "code",
   "execution_count": 27,
   "id": "39a8519e-6a6f-4f05-9894-bb8d28a1f54b",
   "metadata": {},
   "outputs": [
    {
     "data": {
      "text/plain": [
       "(713,)"
      ]
     },
     "execution_count": 27,
     "metadata": {},
     "output_type": "execute_result"
    }
   ],
   "source": [
    "y_pred = np.sum(y_pred, axis=1) / y_pred.shape[1]\n",
    "y_pred.shape"
   ]
  },
  {
   "cell_type": "code",
   "execution_count": 28,
   "id": "df9615af-84a9-4180-b184-0e49eb95e8f4",
   "metadata": {},
   "outputs": [
    {
     "data": {
      "text/plain": [
       "(713,)"
      ]
     },
     "execution_count": 28,
     "metadata": {},
     "output_type": "execute_result"
    }
   ],
   "source": [
    "y_true = np.array(y)\n",
    "y_true.shape"
   ]
  },
  {
   "cell_type": "code",
   "execution_count": 29,
   "id": "a32764ef-c644-49f8-9944-786008c22408",
   "metadata": {
    "tags": []
   },
   "outputs": [
    {
     "data": {
      "text/plain": [
       "(30,)"
      ]
     },
     "execution_count": 29,
     "metadata": {},
     "output_type": "execute_result"
    }
   ],
   "source": [
    "y_test_pred = np.sum(y_test_pred, axis=1) / y_test_pred.shape[1]\n",
    "y_test_pred.shape"
   ]
  },
  {
   "cell_type": "markdown",
   "id": "e1ab5548-bdb8-4eb6-a93c-a4b9bc6acdf5",
   "metadata": {},
   "source": [
    "# ROC curve and optimal threshold"
   ]
  },
  {
   "cell_type": "code",
   "execution_count": 30,
   "id": "d638a363-206a-4034-88df-2e78c3b44447",
   "metadata": {},
   "outputs": [],
   "source": [
    "from sklearn.metrics import roc_curve\n",
    "from sklearn.metrics import roc_auc_score"
   ]
  },
  {
   "cell_type": "code",
   "execution_count": 37,
   "id": "4adac949-de7f-47d5-ba4d-d77c924762ed",
   "metadata": {},
   "outputs": [],
   "source": [
    "auc = np.round(roc_auc_score(y_true, y_pred), 4)"
   ]
  },
  {
   "cell_type": "code",
   "execution_count": 38,
   "id": "8f33378f-0bd0-4df3-8b8f-d62b0fc0de34",
   "metadata": {},
   "outputs": [],
   "source": [
    "fpr, tpr, thresholds = roc_curve(y_true, y_pred)"
   ]
  },
  {
   "cell_type": "code",
   "execution_count": 39,
   "id": "5e1cd80e-17d4-41e0-a167-fb3326710eac",
   "metadata": {},
   "outputs": [
    {
     "data": {
      "text/plain": [
       "Text(0.5, 1.0, 'AUC score 0.9718')"
      ]
     },
     "execution_count": 39,
     "metadata": {},
     "output_type": "execute_result"
    },
    {
     "data": {
      "image/png": "[encoded data removed]",
      "text/plain": [
       "<Figure size 640x480 with 1 Axes>"
      ]
     },
     "metadata": {},
     "output_type": "display_data"
    }
   ],
   "source": [
    "import matplotlib.pyplot as plt\n",
    "\n",
    "plt.plot(fpr,tpr)\n",
    "plt.xlabel('false positive rate, 1-specificity')\n",
    "plt.ylabel('true positive rate, sensitivity')\n",
    "plt.title(f'AUC score {auc}')"
   ]
  },
  {
   "cell_type": "markdown",
   "id": "903de534-9e5c-49b9-8c30-9c2eda519e59",
   "metadata": {},
   "source": [
    "## Optimal threshold"
   ]
  },
  {
   "cell_type": "markdown",
   "id": "526e6b31-9168-4af7-8f35-f5285c9b5a2b",
   "metadata": {},
   "source": [
    "Optimal threshold can be found by maximizing sensitivity + specificity."
   ]
  },
  {
   "cell_type": "code",
   "execution_count": 34,
   "id": "aefa9609-a7b8-45c6-9fcf-65076ffc2364",
   "metadata": {},
   "outputs": [],
   "source": [
    "ind_max = np.argmax(tpr + (1 - fpr))"
   ]
  },
  {
   "cell_type": "code",
   "execution_count": 35,
   "id": "f3feed78-67b5-4c6e-b64c-742e470a4c5f",
   "metadata": {},
   "outputs": [
    {
     "data": {
      "text/plain": [
       "0.48298475"
      ]
     },
     "execution_count": 35,
     "metadata": {},
     "output_type": "execute_result"
    }
   ],
   "source": [
    "best_threshold = thresholds[ind_max]\n",
    "best_threshold"
   ]
  },
  {
   "cell_type": "code",
   "execution_count": 36,
   "id": "bd21a3db-471a-4afb-9789-d897d5221db5",
   "metadata": {},
   "outputs": [
    {
     "data": {
      "text/plain": [
       "(0.4793, 0.4649)"
      ]
     },
     "execution_count": 36,
     "metadata": {},
     "output_type": "execute_result"
    }
   ],
   "source": [
    "# manually saved best threshold over multiple runs of this notebook\n",
    "[0.4793, 0.4649, 0.4830]"
   ]
  },
  {
   "cell_type": "markdown",
   "id": "485cc888-3dfc-4bd0-a79e-6d816f92076f",
   "metadata": {},
   "source": [
    "## Calculate values for the test set"
   ]
  },
  {
   "cell_type": "code",
   "execution_count": 76,
   "id": "53be8e1e-1a3b-4247-8be9-c4a072be82b4",
   "metadata": {},
   "outputs": [
    {
     "data": {
      "text/plain": [
       "array([0.15076722, 0.00538533, 0.01990731, 0.08268661, 0.00453799,\n",
       "       0.03199288, 0.02432018, 0.12169353, 0.11167125, 0.14454032,\n",
       "       0.00681516, 0.55254585, 0.5285141 , 0.05352344, 0.02455742,\n",
       "       0.37433484, 0.6863726 , 0.8019112 , 0.01610186, 0.11562748,\n",
       "       0.03523869, 0.2517117 , 0.48393616, 0.02381004, 0.01175389,\n",
       "       0.5041905 , 0.62440145, 0.9920829 , 0.62974554, 0.4893617 ],\n",
       "      dtype=float32)"
      ]
     },
     "execution_count": 76,
     "metadata": {},
     "output_type": "execute_result"
    }
   ],
   "source": [
    "# prediction values\n",
    "y_test_pred"
   ]
  },
  {
   "cell_type": "code",
   "execution_count": 81,
   "id": "29a82bed-7695-4614-8f20-46aaadd66743",
   "metadata": {},
   "outputs": [],
   "source": [
    "y_answer = []\n",
    "\n",
    "threshold = 0.4830\n",
    "for i in y_test_pred:\n",
    "    \n",
    "    if i >= threshold:\n",
    "        y_answer.append(1)\n",
    "    elif i < threshold:\n",
    "        y_answer.append(0)"
   ]
  },
  {
   "cell_type": "code",
   "execution_count": 82,
   "id": "3a82215a-44af-419f-a78c-5b3972caee5e",
   "metadata": {},
   "outputs": [
    {
     "data": {
      "text/plain": [
       "30"
      ]
     },
     "execution_count": 82,
     "metadata": {},
     "output_type": "execute_result"
    }
   ],
   "source": [
    "len(y_test_values)"
   ]
  },
  {
   "cell_type": "code",
   "execution_count": 83,
   "id": "70923571-10e4-4395-a78a-64157f103dfa",
   "metadata": {},
   "outputs": [],
   "source": [
    "test_data['who_win'] = y_answer"
   ]
  },
  {
   "cell_type": "code",
   "execution_count": 84,
   "id": "fe376000-5da0-4ce9-86bd-e3e9af51cba4",
   "metadata": {},
   "outputs": [],
   "source": [
    "test_data.to_csv('test_data_3.csv', index=False)"
   ]
  }
 ],
 "metadata": {
  "kernelspec": {
   "display_name": "Python 3 (ipykernel)",
   "language": "python",
   "name": "python3"
  },
  "language_info": {
   "codemirror_mode": {
    "name": "ipython",
    "version": 3
   },
   "file_extension": ".py",
   "mimetype": "text/x-python",
   "name": "python",
   "nbconvert_exporter": "python",
   "pygments_lexer": "ipython3",
   "version": "3.9.13"
  }
 },
 "nbformat": 4,
 "nbformat_minor": 5
}
